{
 "cells": [
  {
   "cell_type": "code",
   "execution_count": 1,
   "metadata": {},
   "outputs": [],
   "source": [
    "import requests"
   ]
  },
  {
   "cell_type": "code",
   "execution_count": 2,
   "metadata": {},
   "outputs": [
    {
     "data": {
      "text/plain": [
       "'\\r\\n{\"rgv587_flag\": \"sm\", \"url\": \"/detail/get/detail/_____tmd_____/punish?x5secdata=5e0c8e1365474455070961b803bd560607b52cabf5960afff39b64ce58073f78f095b6a70f415eb80daf000cedba5eade1242c13156566ae060a9ce753705eee88acef45d8a3d0c8b75395c9d443bd12ae05d6a084e26e17fce6f28abaf9fc956e0024606f075187de98b2e34e8bf427f01c1f73bbe24d0a2be3b240887756f49ebf7ad46f2a59d9d519f70cd108fe1f9d1c7a9aaf1c4342397ac7e70a94de23c47a62089c1b71761c662685e3d86c94f63b7dccf8338a8617f39c053efe81b659927f9d1f34967a013ec4b9e1aa0018b2dd4cd0d78957e88681ac23a9c0ccdf74b0e59b6f212ccbe3c4e62f7b5e85e8524a479ee94489547cf3da4edb457598e1e92e5657908a09100d8729f592d565951881578f6d451ff315008447a0a18b44da64f03c41f95cf35ccb1dbd797ce236c6e576b381999617f699880b5b0853ac62b8c07ac9734d6799e4f8b11e11a59dab80f89293688707c3aec5d53b80ede4be22176de4a5cd6f92fe03138e4567886a3e9b835b85c88eacb22d66e05284d5d0962ce9d21d87a3712b8058365f941bbbf7cb34591bed45d1699bc75fff1d1145ccd80428322b8626531b97534cb0b0c10ddbb960229a223d00a4f0b3c4b36c6942a3889e5800d1970967173070962c6ebbf197ec4e3d4b752987ab36b372&x5step=2\"}'"
      ]
     },
     "execution_count": 2,
     "metadata": {},
     "output_type": "execute_result"
    }
   ],
   "source": [
    "r = requests.get('https://ditu.amap.com/detail/get/detail?id=B000A83LNO')\n",
    "r.text"
   ]
  }
 ],
 "metadata": {
  "kernelspec": {
   "display_name": "Python 3",
   "language": "python",
   "name": "python3"
  },
  "language_info": {
   "codemirror_mode": {
    "name": "ipython",
    "version": 3
   },
   "file_extension": ".py",
   "mimetype": "text/x-python",
   "name": "python",
   "nbconvert_exporter": "python",
   "pygments_lexer": "ipython3",
   "version": "3.7.6"
  }
 },
 "nbformat": 4,
 "nbformat_minor": 4
}
