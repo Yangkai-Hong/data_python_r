{
 "cells": [
  {
   "cell_type": "code",
   "execution_count": 1,
   "metadata": {},
   "outputs": [],
   "source": [
    "from bs4 import BeautifulSoup\n",
    "import requests\n",
    "import pandas as pd\n",
    "import datetime as dt\n",
    "import time\n",
    "\n",
    "# 生成id从1到19的平台链接\n",
    "urls = []\n",
    "for i in range(1, 20):\n",
    "    urls.append('https://xian.xiaohulu.com/rank/?plat=' + str(i))\n",
    "\n",
    "today = dt.datetime.now().strftime('%Y-%m-%d %H:%M:%S')\n",
    "res_list = []\n",
    "\n",
    "def spider(url):\n",
    "    time.sleep(1)\n",
    "    headers = {\n",
    "        'User-Agent': 'Mozilla/5.0 (Windows NT 6.1; WOW64) AppleWebKit/537.36 (KHTML, like Gecko) Chrome/66.0.3359.181 Safari/537.36',\n",
    "        'Cookie': 'PHPSESSID=5lqh87vqoub6eb88jjf9enva51; Hm_lvt_1c358b33dfa30c89dd3a1927a5921793=1597661050; xhl_cok=42c5VrB9oVRZgGeL0oEVcbQQ%2Bec1GJ4VLxj9W%2FR38SChFLXPoUfDMlermibMwOVyuDf%2BEwTPo2dAMSQL4A; 6N3e_f2ec___XHLTXZ__www=a886RUR65xoRWXVBLaRS4xWGD6BMYIBdg3he%2FY2BM924RZaavzFzURfs5SovUNmWBQmG3WUNeGVhTEJ%2FL6JVwd43rA0y%2F%2Fe1tXMGd5bzpgPD8CorHjoAFLkaPlHKDiwiI6uc%2BsfWfRLWmm54%2Bv5OToiev0gDDQZ8XmV7BNpyL7%2Bk04cj5fD5bFWUu6%2FQqXj5S3wCIQ; 6N3e_f2ec___XHLSID__www=66d357fbef099f0de0c6ec8b65fcb508; Hm_lpvt_1c358b33dfa30c89dd3a1927a5921793=1597662225',\n",
    "    }\n",
    "    session = requests.Session()\n",
    "    response = session.get(url, headers=headers).text\n",
    "    soup = BeautifulSoup(response)\n",
    "\n",
    "    plat = soup.find('h2').text\n",
    "    income = soup.find(text='礼物收入').find_next().find_next().text\n",
    "    danmu = soup.find(text='弹幕条数').find_next().find_next().text\n",
    "    audience = soup.find(text='弹幕人数').find_next().find_next().text\n",
    "    kaibo = soup.find(text='开播数量').find_next().find_next().text\n",
    "\n",
    "    obj = {\n",
    "        '日期': today,\n",
    "        '直播平台': plat,\n",
    "        '礼物收入': income,\n",
    "        '弹幕条数': danmu,\n",
    "        '弹幕人数': audience,\n",
    "        '开播数量': kaibo\n",
    "    }\n",
    "    res_list.append(obj)\n",
    "    \n",
    "for url in urls:\n",
    "    spider(url)\n",
    "    \n",
    "df = pd.DataFrame(res_list)\n",
    "df.set_index('日期').to_excel('./小葫芦数据' + today + '.xlsx')"
   ]
  }
 ],
 "metadata": {
  "kernelspec": {
   "display_name": "Python 3",
   "language": "python",
   "name": "python3"
  },
  "language_info": {
   "codemirror_mode": {
    "name": "ipython",
    "version": 3
   },
   "file_extension": ".py",
   "mimetype": "text/x-python",
   "name": "python",
   "nbconvert_exporter": "python",
   "pygments_lexer": "ipython3",
   "version": "3.7.6"
  }
 },
 "nbformat": 4,
 "nbformat_minor": 4
}
