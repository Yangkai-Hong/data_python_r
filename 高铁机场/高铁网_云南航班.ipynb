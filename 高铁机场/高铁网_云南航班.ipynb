{
 "cells": [
  {
   "cell_type": "code",
   "execution_count": 73,
   "metadata": {},
   "outputs": [
    {
     "name": "stdout",
     "output_type": "stream",
     "text": [
      "祥云\n",
      "建水\n",
      "玉溪\n",
      "楚雄\n",
      "嵩明\n",
      "富宁\n"
     ]
    }
   ],
   "source": [
    "# 高铁网爬虫\n",
    "def get_data(station):\n",
    "    import time\n",
    "    time.sleep(10)\n",
    "    print(station)\n",
    "    \n",
    "    # http请求\n",
    "    import urllib \n",
    "    from urllib.parse import urlencode\n",
    "    base_url = 'http://shike.gaotie.cn/zhan.asp?'\n",
    "    params = {\n",
    "        'zhan': station.encode('gb2312'), #简体中文编码\n",
    "    }\n",
    "    url = base_url + urlencode(params)\n",
    "    with urllib.request.urlopen(url) as f:\n",
    "        html = f.read().decode('gb2312')\n",
    "    \n",
    "    # 解析html\n",
    "    from bs4 import BeautifulSoup\n",
    "    soup = BeautifulSoup(html)\n",
    "    table = soup.select('table[width=\"743\"]')[0] #车次表\n",
    "    td = [td.text for td in table.find_all('td')]\n",
    "    \n",
    "    import numpy as np\n",
    "    import pandas as pd\n",
    "    arr = np.array(td)\n",
    "    arr = arr.reshape(-1,7)\n",
    "\n",
    "    df = pd.DataFrame(arr[1:], columns=arr[0])\n",
    "    df.set_index('车次').to_excel('./高铁数据/' + station + '.xlsx')\n",
    "\n",
    "#stations = ['昆明南','昆明','大理','丽江','蒙自','弥勒','宣威','石林','富源','广南']\n",
    "stations = ['祥云','建水','玉溪','楚雄','嵩明','富宁']\n",
    "for station in stations:\n",
    "    get_data(station)"
   ]
  },
  {
   "cell_type": "code",
   "execution_count": 92,
   "metadata": {},
   "outputs": [
    {
     "name": "stdout",
     "output_type": "stream",
     "text": [
      "https://ws.ynairport.com/FlightDyn/js/WS.js\n",
      "https://ws.ynairport.com/FlightDyn/js/WSDep.js\n",
      "https://zt.ynairport.com/FlightDyn/js/ZT.js\n",
      "https://zt.ynairport.com/FlightDyn/js/ZTDep.js\n",
      "https://lc.ynairport.com/FlightDyn/js/LC.js\n",
      "https://lc.ynairport.com/FlightDyn/js/LCDep.js\n",
      "error: https://lc.ynairport.com/FlightDyn/js/LCDep.js\n",
      "https://dl.ynairport.com/FlightDyn/js/DL.js\n",
      "https://dl.ynairport.com/FlightDyn/js/DLDep.js\n",
      "https://dq.ynairport.com/FlightDyn/js/DQ.js\n",
      "https://dq.ynairport.com/FlightDyn/js/DQDep.js\n"
     ]
    }
   ],
   "source": [
    "# 云南机场爬虫\n",
    "def airport_data(url):\n",
    "    import time\n",
    "    time.sleep(10)\n",
    "    print(url)\n",
    "    \n",
    "    import urllib\n",
    "    with urllib.request.urlopen(url) as f:\n",
    "        json = f.read().decode('utf-8')[13:]\n",
    "        \n",
    "    import pandas as pd\n",
    "    df = pd.read_json(json)\n",
    "    try:\n",
    "        df.set_index('fltNum').to_excel('./机场数据/' + url[38:] + '.xlsx')\n",
    "    except Exception as e:\n",
    "        print('error:', url)\n",
    "    \n",
    "urls = [\n",
    "    #'https://km.ynairport.com/FlightDyn/js/KMN.js',\n",
    "    #'https://km.ynairport.com/FlightDyn/js/KMNDep.js',\n",
    "    #'https://lj.ynairport.com/FlightDyn/js/LJ.js',\n",
    "    #'https://lj.ynairport.com/FlightDyn/js/LJ.js',\n",
    "    #'https://bn.ynairport.com/FlightDyn/js/BN.js',\n",
    "    #'https://bn.ynairport.com/FlightDyn/js/BNDep.js',\n",
    "    #'https://dh.ynairport.com/FlightDyn/js/MS.js',\n",
    "    #'https://dh.ynairport.com/FlightDyn/js/MSDep.js',\n",
    "    #'https://sm.ynairport.com/FlightDyn/js/SM.js',\n",
    "    #'https://sm.ynairport.com/FlightDyn/js/SMDep.js',\n",
    "    #'https://tc.ynairport.com/FlightDyn/js/TC.js',\n",
    "    #'https://tc.ynairport.com/FlightDyn/js/TCDep.js',\n",
    "    #'https://bs.ynairport.com/FlightDyn/js/BS.js',\n",
    "    #'https://bs.ynairport.com/FlightDyn/js/BSDep.js',\n",
    "    'https://ws.ynairport.com/FlightDyn/js/WS.js',\n",
    "    'https://ws.ynairport.com/FlightDyn/js/WSDep.js',\n",
    "    'https://zt.ynairport.com/FlightDyn/js/ZT.js',\n",
    "    'https://zt.ynairport.com/FlightDyn/js/ZTDep.js',\n",
    "    'https://lc.ynairport.com/FlightDyn/js/LC.js',\n",
    "    'https://lc.ynairport.com/FlightDyn/js/LCDep.js',\n",
    "    'https://dl.ynairport.com/FlightDyn/js/DL.js',\n",
    "    'https://dl.ynairport.com/FlightDyn/js/DLDep.js',\n",
    "    'https://dq.ynairport.com/FlightDyn/js/DQ.js',\n",
    "    'https://dq.ynairport.com/FlightDyn/js/DQDep.js'\n",
    "]\n",
    "for url in urls:\n",
    "    airport_data(url)"
   ]
  },
  {
   "cell_type": "code",
   "execution_count": 99,
   "metadata": {},
   "outputs": [],
   "source": [
    "import os\n",
    "import pandas as pd\n",
    "for root, dirs, files in os.walk('./高铁数据/'):\n",
    "    df = pd.DataFrame()\n",
    "    for file in files:\n",
    "        if file != '.DS_Store':\n",
    "            df = pd.concat([df, pd.read_excel(root+file)], ignore_index=True)\n",
    "    df.set_index('车次').to_excel('./云南高铁.xlsx')\n",
    "for root, dirs, files in os.walk('./机场数据/'):\n",
    "    df = pd.DataFrame()\n",
    "    for file in files:\n",
    "        if file != '.DS_Store':\n",
    "            df = pd.concat([df, pd.read_excel(root+file)], ignore_index=True)\n",
    "    df.to_excel('./云南航班.xlsx')"
   ]
  }
 ],
 "metadata": {
  "kernelspec": {
   "display_name": "Python 3",
   "language": "python",
   "name": "python3"
  },
  "language_info": {
   "codemirror_mode": {
    "name": "ipython",
    "version": 3
   },
   "file_extension": ".py",
   "mimetype": "text/x-python",
   "name": "python",
   "nbconvert_exporter": "python",
   "pygments_lexer": "ipython3",
   "version": "3.7.6"
  }
 },
 "nbformat": 4,
 "nbformat_minor": 4
}
